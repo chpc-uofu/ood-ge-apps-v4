{
 "cells": [
  {
   "cell_type": "code",
   "execution_count": 1,
   "id": "edf2f988",
   "metadata": {},
   "outputs": [],
   "source": [
    "#Curiously curl is not packaged in the vllm container so this test would only work on a separate client\n",
    "# !curl http://localhost:$nimport/v1/models\n",
    "#SHOULD MAKE MODEL A PARAM like $nimport"
   ]
  },
  {
   "cell_type": "code",
   "execution_count": 2,
   "id": "68a5360f-02e2-4532-bbd1-f9e622662bd4",
   "metadata": {},
   "outputs": [],
   "source": [
    "from openai import OpenAI\n",
    "import os\n",
    "\n",
    "openai_api_key = \"EMPTY\"\n",
    "openai_api_base = \"http://localhost:\" + os.environ['ollama_port'] + \"/v1\"\n",
    "client = OpenAI(\n",
    "    api_key=openai_api_key,\n",
    "    base_url=openai_api_base,\n",
    ")\n",
    "model = os.environ['MODEL']"
   ]
  },
  {
   "cell_type": "code",
   "execution_count": 4,
   "id": "e0cac2f2-ef1d-41d4-bf47-4f45d72ec0bc",
   "metadata": {},
   "outputs": [
    {
     "name": "stdout",
     "output_type": "stream",
     "text": [
      "NousResearch/Meta-Llama-3-8B-Instruct Completion result: Completion(id='cmpl-4b2d0b61634e40ab8f6c3295c609278c', choices=[CompletionChoice(finish_reason='length', index=0, logprobs=None, text=' they are cute and funny. They are also very good swimmers and divers.', stop_reason=None, prompt_logprobs=None)], created=1747424749, model='NousResearch/Meta-Llama-3-8B-Instruct', object='text_completion', system_fingerprint=None, usage=CompletionUsage(completion_tokens=16, prompt_tokens=6, total_tokens=22, completion_tokens_details=None, prompt_tokens_details=None))\n"
     ]
    }
   ],
   "source": [
    "completion = client.completions.create(model=model, prompt=\"I like penguins because\")\n",
    "print(model,\"Completion result:\", completion)"
   ]
  },
  {
   "cell_type": "code",
   "execution_count": 4,
   "id": "555a9d18-d72d-483b-9c44-95e870bb4988",
   "metadata": {},
   "outputs": [
    {
     "name": "stdout",
     "output_type": "stream",
     "text": [
      "ChatCompletion(id='chatcmpl-43e91ff196144c9cbf803289dbc4cf8f', choices=[Choice(finish_reason='stop', index=0, logprobs=None, message=ChatCompletionMessage(content='positive', refusal=None, role='assistant', annotations=None, audio=None, function_call=None, tool_calls=[], reasoning_content=None), stop_reason=None)], created=1747353129, model='Qwen/Qwen2.5-1.5B-Instruct', object='chat.completion', service_tier=None, system_fingerprint=None, usage=CompletionUsage(completion_tokens=2, prompt_tokens=40, total_tokens=42, completion_tokens_details=None, prompt_tokens_details=None), prompt_logprobs=None)\n"
     ]
    }
   ],
   "source": [
    "completion = client.chat.completions.create(\n",
    "  model=model,\n",
    "  messages=[\n",
    "    {\"role\": \"user\", \"content\": \"Classify this sentiment: vLLM is wonderful!\"}\n",
    "  ],\n",
    "  extra_body={\n",
    "    \"guided_choice\": [\"positive\", \"negative\"]\n",
    "  }\n",
    ")\n",
    "print(completion)"
   ]
  },
  {
   "cell_type": "code",
   "execution_count": 5,
   "id": "f95b6b73-ac1f-4afb-8e97-5df7d7de464a",
   "metadata": {},
   "outputs": [
    {
     "name": "stdout",
     "output_type": "stream",
     "text": [
      "Completion result: Completion(id='cmpl-48ee73879e4348758c28cc0ae57ae7da', choices=[CompletionChoice(finish_reason='length', index=0, logprobs=None, text='140-year-old city that has seen its share of ups and downs.', stop_reason=None, prompt_logprobs=None)], created=1747353131, model='Qwen/Qwen2.5-1.5B-Instruct', object='text_completion', system_fingerprint=None, usage=CompletionUsage(completion_tokens=16, prompt_tokens=5, total_tokens=21, completion_tokens_details=None, prompt_tokens_details=None))\n"
     ]
    }
   ],
   "source": [
    "completion = client.completions.create(model=model, prompt=\"San Francisco is a \")\n",
    "print(\"Completion result:\", completion)"
   ]
  },
  {
   "cell_type": "code",
   "execution_count": null,
   "id": "1bda83d7-3a5a-4589-b5d9-7448d28beed3",
   "metadata": {},
   "outputs": [],
   "source": []
  }
 ],
 "metadata": {
  "kernelspec": {
   "display_name": "Python 3 (ipykernel)",
   "language": "python",
   "name": "python3"
  },
  "language_info": {
   "codemirror_mode": {
    "name": "ipython",
    "version": 3
   },
   "file_extension": ".py",
   "mimetype": "text/x-python",
   "name": "python",
   "nbconvert_exporter": "python",
   "pygments_lexer": "ipython3",
   "version": "3.12.9"
  }
 },
 "nbformat": 4,
 "nbformat_minor": 5
}
