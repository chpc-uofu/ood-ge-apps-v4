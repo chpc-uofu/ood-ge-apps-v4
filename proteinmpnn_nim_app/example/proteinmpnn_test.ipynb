{
 "cells": [
  {
   "cell_type": "markdown",
   "id": "fff58f70",
   "metadata": {},
   "source": [
    "In terminal, start the container as:<br>\n",
    "`ml apptainer`<br>\n",
    "`apptainer run --fakeroot --nv -e -B /scratch/general/vast/u0101881/nvs/.cache/nim/models:/home/nvs/.cache -B /scratch/general/vast/u0101881/nim/proteinmpnn/workspace:/opt/nim/workspace --env NIM_CACHE_PATH=/home/nvs/.cache/nim/models,NIM_HTTP_API_PORT=8083 /uufs/chpc.utah.edu/common/home/u0101881/nvidia/nim/proteinmpnn_1.0.sif`<br>\n",
    "Once it starts, it'll show<br>\n",
    "```\n",
    "INFO:uvicorn.error:Application startup complete.\n",
    "INFO:uvicorn.error:Uvicorn running on http://0.0.0.0:8083 (Press CTRL+C to quit)\n",
    "```"
   ]
  },
  {
   "cell_type": "code",
   "execution_count": 1,
   "id": "edf2f988",
   "metadata": {},
   "outputs": [
    {
     "name": "stdout",
     "output_type": "stream",
     "text": [
      "{\"status\":\"ready\"}"
     ]
    }
   ],
   "source": [
    "!curl localhost:8083/v1/health/ready"
   ]
  },
  {
   "cell_type": "code",
   "execution_count": 2,
   "id": "05ceee2e",
   "metadata": {},
   "outputs": [],
   "source": [
    "import requests\n",
    "import os\n",
    "import json\n",
    "from pathlib import Path"
   ]
  },
  {
   "cell_type": "code",
   "execution_count": 3,
   "id": "11c98a5b",
   "metadata": {},
   "outputs": [],
   "source": [
    "def get_reduced_pdb():\n",
    "    pdb = Path(\"1R42.pdb\")\n",
    "    if not pdb.exists():\n",
    "        pdb.write_text(requests.get(f\"https://files.rcsb.org/download/{pdb}\").text)\n",
    "    lines = filter(lambda line: line.startswith(\"ATOM\"), pdb.read_text().split(\"\\n\"))\n",
    "    return \"\\n\".join(list(lines)[:200])\n"
   ]
  },
  {
   "cell_type": "code",
   "execution_count": 4,
   "id": "ed72724d",
   "metadata": {},
   "outputs": [
    {
     "name": "stdout",
     "output_type": "stream",
     "text": [
      "<Response [200]> Saving to output.fa:\n",
      " {\"mfasta\":\">input, score=2.6678, global_score=2.6678, fixed_chains=[], designed_chains=['A'], model_name=v_48_002, git_hash=unknown, seed=102\\nSTIEEQAKTFLDKFNHEAEDLFYQ\\n>T=0.1, sample=1, score=1.2692, ...\n"
     ]
    },
    {
     "data": {
      "text/plain": [
       "254"
      ]
     },
     "execution_count": 4,
     "metadata": {},
     "output_type": "execute_result"
    }
   ],
   "source": [
    "r = requests.post(\n",
    "    url=\"http://localhost:8083/biology/ipd/proteinmpnn/predict\",\n",
    "    json={\n",
    "        \"input_pdb\": get_reduced_pdb(),\n",
    "        \"ca_only\": False,\n",
    "        \"use_soluble_model\": False,\n",
    "        \"sampling_temp\": [0.1],\n",
    "    },\n",
    ")\n",
    "print(r, \"Saving to output.fa:\\n\", r.text[:200], \"...\")\n",
    "Path(\"output.fa\").write_text(json.loads(r.text)[\"mfasta\"])\n"
   ]
  }
 ],
 "metadata": {
  "kernelspec": {
   "display_name": "Python 3 (ipykernel)",
   "language": "python",
   "name": "python3"
  },
  "language_info": {
   "codemirror_mode": {
    "name": "ipython",
    "version": 3
   },
   "file_extension": ".py",
   "mimetype": "text/x-python",
   "name": "python",
   "nbconvert_exporter": "python",
   "pygments_lexer": "ipython3",
   "version": "3.10.3"
  }
 },
 "nbformat": 4,
 "nbformat_minor": 5
}
