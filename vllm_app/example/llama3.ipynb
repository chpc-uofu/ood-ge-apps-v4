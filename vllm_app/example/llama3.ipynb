{
 "cells": [
  {
   "cell_type": "markdown",
   "id": "c828fd6d",
   "metadata": {},
   "source": [
    "Note: Need bigger GPU (e.g. A40), decent CPUs and RAM (e.g. 16, 128G)<br>\n",
    "\n",
    "Connect to Jupyter button should only appear after the RFDiffusion NIM server starts<br>\n",
    "\n",
    "First verify that the NIM server is up, when it shows \"ready\" run the other cells\n"
   ]
  },
  {
   "cell_type": "code",
   "execution_count": 6,
   "id": "419f4bd1",
   "metadata": {},
   "outputs": [
    {
     "name": "stdout",
     "output_type": "stream",
     "text": [
      "/bin/bash: ollama: command not found\n"
     ]
    }
   ],
   "source": [
    "!export OLLAMA_HOST=127.0.0.1:$nimport\n",
    "!ollama list"
   ]
  },
  {
   "cell_type": "code",
   "execution_count": 3,
   "id": "1e85186e",
   "metadata": {},
   "outputs": [],
   "source": [
    "import requests\n",
    "import os\n",
    "import json\n",
    "from pathlib import Path"
   ]
  },
  {
   "cell_type": "code",
   "execution_count": 11,
   "id": "93c754eb",
   "metadata": {},
   "outputs": [
    {
     "name": "stdout",
     "output_type": "stream",
     "text": [
      "<Response [200]> Output:\n",
      " {\"id\":\"chat-602221fe1e304f2fbb0b9959484154da\",\"object\":\"chat.completion\",\"created\":1746648860,\"model\":\"meta/llama-3.2-1b-instruct\",\"choices\":[{\"index\":0,\"message\":{\"role\":\"assistant\",\"content\":\"CHPC stands for Center for High-Performance Computing at the University of Utah. It is a research center that provides high-performance computing (HPC) resources and services to the university's faculty, students, and research groups.\\n\\nThe CHPC is a state-of-the-art facility that offers a range of HPC resources, including:\\n\\n1. **Computing clusters**: High-performance computing clusters with thousands of cores, including Intel Xeon and AMD EPYC processors.\\n2. **Storage**: Large-scale storage systems with capacities ranging from 100 TB to 1 PB.\\n3. **Networking**: High-speed networking infrastructure, including 100 GbE and 10 GbE connections.\\n4. **Data management**: Advanced data management tools and services, including data compression, encryption, and backup and recovery.\\n5. **Software development**: Access to a wide range of software development tools, including compilers, debuggers, and testing frameworks.\\n\\nThe CHPC is used by a variety of research groups across the university, including:\\n\\n1. **Physics and astronomy**: For simulations of complex astrophysical phenomena, such as galaxy formation and cosmology.\\n2. **Computer science**: For large-scale data processing, machine learning, and artificial intelligence applications.\\n3. **Biological sciences**: For simulations of complex biological systems, such as protein folding and molecular dynamics.\\n4. **Engineering**: For simulations of complex engineering systems, such as fluid dynamics and structural analysis.\\n\\nThe CHPC is also used for various research projects, such as:\\n\\n1. **Climate modeling**: For studying climate change and its impacts on the environment.\\n2. **Materials science**: For simulating the behavior of materials at the atomic and molecular level.\\n3. **Neuromorphic computing**: For developing artificial neural networks and simulating complex brain-like systems.\\n\\nOverall, the CHPC at the University of Utah is a critical resource for advancing research in various fields, from fundamental physics to applied engineering and biological sciences.\"},\"logprobs\":null,\"finish_reason\":\"stop\",\"stop_reason\":null}],\"usage\":{\"prompt_tokens\":19,\"total_tokens\":413,\"completion_tokens\":394},\"prompt_logprobs\":null}\n"
     ]
    },
    {
     "ename": "AttributeError",
     "evalue": "'Response' object has no attribute 'choices'",
     "output_type": "error",
     "traceback": [
      "\u001b[0;31m---------------------------------------------------------------------------\u001b[0m",
      "\u001b[0;31mAttributeError\u001b[0m                            Traceback (most recent call last)",
      "Cell \u001b[0;32mIn[11], line 19\u001b[0m\n\u001b[1;32m      1\u001b[0m r \u001b[38;5;241m=\u001b[39m requests\u001b[38;5;241m.\u001b[39mpost(\n\u001b[1;32m      2\u001b[0m     url\u001b[38;5;241m=\u001b[39m\u001b[38;5;124m\"\u001b[39m\u001b[38;5;124mhttp://localhost:\u001b[39m\u001b[38;5;124m\"\u001b[39m\u001b[38;5;241m+\u001b[39mos\u001b[38;5;241m.\u001b[39menviron[\u001b[38;5;124m'\u001b[39m\u001b[38;5;124mnimport\u001b[39m\u001b[38;5;124m'\u001b[39m]\u001b[38;5;241m+\u001b[39m\u001b[38;5;124m\"\u001b[39m\u001b[38;5;124m/v1/chat/completions\u001b[39m\u001b[38;5;124m\"\u001b[39m,\n\u001b[1;32m      3\u001b[0m     json\u001b[38;5;241m=\u001b[39m{\n\u001b[0;32m   (...)\u001b[0m\n\u001b[1;32m     16\u001b[0m     },\n\u001b[1;32m     17\u001b[0m )\n\u001b[1;32m     18\u001b[0m \u001b[38;5;28mprint\u001b[39m(r, \u001b[38;5;124m\"\u001b[39m\u001b[38;5;124mOutput:\u001b[39m\u001b[38;5;130;01m\\n\u001b[39;00m\u001b[38;5;124m\"\u001b[39m, r\u001b[38;5;241m.\u001b[39mtext)\n\u001b[0;32m---> 19\u001b[0m \u001b[38;5;28mprint\u001b[39m(r, \u001b[38;5;124m\"\u001b[39m\u001b[38;5;124mOutput:\u001b[39m\u001b[38;5;130;01m\\n\u001b[39;00m\u001b[38;5;124m\"\u001b[39m, \u001b[43mr\u001b[49m\u001b[38;5;241;43m.\u001b[39;49m\u001b[43mchoices\u001b[49m\u001b[38;5;241m.\u001b[39mtext)\n",
      "\u001b[0;31mAttributeError\u001b[0m: 'Response' object has no attribute 'choices'"
     ]
    }
   ],
   "source": [
    "r = requests.post(\n",
    "    url=\"http://localhost:\"+os.environ['nimport']+\"/v1/chat/completions\",\n",
    "    json={\n",
    "          \"messages\": [\n",
    "            {\n",
    "              \"role\": \"user\",\n",
    "              \"content\": \"What is CHPC at the University of Utah\"\n",
    "            }\n",
    "          ],\n",
    "          \"model\": \"meta/llama-3.2-1b-instruct\",\n",
    "          \"max_tokens\": 1024,\n",
    "          \"presence_penalty\": 0,\n",
    "          \"frequency_penalty\": 0,\n",
    "          \"top_p\": 0.7,\n",
    "          \"temperature\": 0.2\n",
    "    },\n",
    ")\n",
    "print(r, \"Output:\\n\", r.text)\n",
    "print(r, \"Output:\\n\", r.choices.text)"
   ]
  }
 ],
 "metadata": {
  "kernelspec": {
   "display_name": "Python 3 (ipykernel)",
   "language": "python",
   "name": "python3"
  },
  "language_info": {
   "codemirror_mode": {
    "name": "ipython",
    "version": 3
   },
   "file_extension": ".py",
   "mimetype": "text/x-python",
   "name": "python",
   "nbconvert_exporter": "python",
   "pygments_lexer": "ipython3",
   "version": "3.12.9"
  }
 },
 "nbformat": 4,
 "nbformat_minor": 5
}
