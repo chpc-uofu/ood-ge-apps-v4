{
 "cells": [
  {
   "cell_type": "markdown",
   "id": "fff58f70",
   "metadata": {},
   "source": [
    "Note: Small sequences should work on CPUs only (say 8 cores)\n",
    "\n",
    "Connect to Jupyter button should only appear after the ProteinMPNN NIM server starts\n",
    "\n",
    "First verify that the NIM server is up, when it shows \"ready\" run the other cells"
   ]
  },
  {
   "cell_type": "code",
   "execution_count": 2,
   "id": "edf2f988",
   "metadata": {},
   "outputs": [
    {
     "name": "stdout",
     "output_type": "stream",
     "text": [
      "{\"status\":\"ready\"}"
     ]
    }
   ],
   "source": [
    "!curl localhost:$nimport/v1/health/ready"
   ]
  },
  {
   "cell_type": "code",
   "execution_count": 3,
   "id": "05ceee2e",
   "metadata": {},
   "outputs": [],
   "source": [
    "import requests\n",
    "import os\n",
    "import json\n",
    "from pathlib import Path"
   ]
  },
  {
   "cell_type": "code",
   "execution_count": 4,
   "id": "11c98a5b",
   "metadata": {},
   "outputs": [],
   "source": [
    "def get_reduced_pdb():\n",
    "    pdb = Path(\"1R42.pdb\")\n",
    "    if not pdb.exists():\n",
    "        pdb.write_text(requests.get(f\"https://files.rcsb.org/download/{pdb}\").text)\n",
    "    lines = filter(lambda line: line.startswith(\"ATOM\"), pdb.read_text().split(\"\\n\"))\n",
    "    return \"\\n\".join(list(lines)[:200])\n"
   ]
  },
  {
   "cell_type": "code",
   "execution_count": 5,
   "id": "ed72724d",
   "metadata": {},
   "outputs": [
    {
     "name": "stdout",
     "output_type": "stream",
     "text": [
      "<Response [200]> Saving to output.fa:\n",
      " {\"mfasta\":\">input, score=2.6678, global_score=2.6678, fixed_chains=[], designed_chains=['A'], model_name=v_48_002, git_hash=unknown, seed=102\\nSTIEEQAKTFLDKFNHEAEDLFYQ\\n>T=0.1, sample=1, score=1.2692, ...\n"
     ]
    },
    {
     "data": {
      "text/plain": [
       "254"
      ]
     },
     "execution_count": 5,
     "metadata": {},
     "output_type": "execute_result"
    }
   ],
   "source": [
    "r = requests.post(\n",
    "    url=\"http://localhost:\"+os.environ['nimport']+\"/biology/ipd/proteinmpnn/predict\",\n",
    "    json={\n",
    "        \"input_pdb\": get_reduced_pdb(),\n",
    "        \"ca_only\": False,\n",
    "        \"use_soluble_model\": False,\n",
    "        \"sampling_temp\": [0.1],\n",
    "    },\n",
    ")\n",
    "print(r, \"Saving to output.fa:\\n\", r.text[:200], \"...\")\n",
    "Path(\"output.fa\").write_text(json.loads(r.text)[\"mfasta\"])\n"
   ]
  }
 ],
 "metadata": {
  "kernelspec": {
   "display_name": "Python 3 (ipykernel)",
   "language": "python",
   "name": "python3"
  },
  "language_info": {
   "codemirror_mode": {
    "name": "ipython",
    "version": 3
   },
   "file_extension": ".py",
   "mimetype": "text/x-python",
   "name": "python",
   "nbconvert_exporter": "python",
   "pygments_lexer": "ipython3",
   "version": "3.11.3"
  }
 },
 "nbformat": 4,
 "nbformat_minor": 5
}
