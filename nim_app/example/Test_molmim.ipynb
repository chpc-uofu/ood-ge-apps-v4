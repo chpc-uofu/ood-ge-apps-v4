{
 "cells": [
  {
   "cell_type": "code",
   "execution_count": 6,
   "id": "bcf2042a-b9e2-412d-bab5-3adb5464a4f7",
   "metadata": {},
   "outputs": [],
   "source": [
    "import requests\n",
    "import os\n",
    "import json\n",
    "from pathlib import Path\n",
    "\n",
    "accept_header='Accept: application/json'\n",
    "content_type_header='Content-Type: application/json'\n",
    "\n",
    "data='{  \"algorithm\": \"CMA-ES\",  \"num_molecules\": 10,  \"property_name\": \"QED\",  \"minimize\": false,  \"min_similarity\": 0.3,  \"particles\": 20,  \"iterations\": 3,  \"smi\": \"[H][C@@]12Cc3c[nH]c4cccc(C1=C[C@H](NC(=O)N(CC)CC)CN2C)c34\"}'\n",
    "data = json.loads(data)\n",
    "\n",
    "#response=$(curl --silent -i -w \"\n",
    "#%{http_code}\" --request POST \\\n",
    "#  --url http://localhost:8000/generate \\\n",
    "#  --header \"$authorization_header\" \\\n",
    "#  --header \"$accept_header\" \\\n",
    "#  --header \"$content_type_header\" \\\n",
    "#  --data \"$data\"\n",
    "#)\n",
    "r = requests.post(\n",
    "    url=\"http://localhost:\"+os.environ['nimport']+\"/generate\",\n",
    "    json=data\n",
    "    )\n"
   ]
  },
  {
   "cell_type": "code",
   "execution_count": 8,
   "id": "a276ebb0-ef38-46ef-a6ac-34f839564bf3",
   "metadata": {},
   "outputs": [
    {
     "data": {
      "text/plain": [
       "{'generated': [{'smiles': 'CCN(CC)C(=O)N[C@H]1N=C2c3cccc4cccc(c34)[C@H]2N(C)C1',\n",
       "   'score': 0.9365340938288311},\n",
       "  {'smiles': 'CCN(CC)C(=O)N[C@H]1C=C2c3cccc4cccc(c34)[C@H]2N(C)C1',\n",
       "   'score': 0.9293289388847503},\n",
       "  {'smiles': 'CCN(CC)C(=O)N[C@H]1C=C2c3cccc4cccc(c34)[C@H]2N(C)C1',\n",
       "   'score': 0.9293289388847503},\n",
       "  {'smiles': 'CCN(CC)C(=O)N[C@H]1C=C2c3cccc4cccc(c34)[C@H]2N(C)C1',\n",
       "   'score': 0.9293289388847503},\n",
       "  {'smiles': 'CCN(CC)C(=O)N[C@H]1C=C2c3cccc(F)c3C(=O)N2[C@H](C)C1',\n",
       "   'score': 0.9258458393389176},\n",
       "  {'smiles': 'CCN(CC)C(=O)N[C@H]1C=C2c3ccccc3CC(C)(C)[C@H]2N(C)C1',\n",
       "   'score': 0.9146413316520678},\n",
       "  {'smiles': 'CCN(CC)C(=O)N[C@H]1C=C2c3ccc4[nH]ccc4c3C(=O)N2C1',\n",
       "   'score': 0.910126846793148},\n",
       "  {'smiles': 'CCN(CC)C(=O)N[C@H]1C=C(c2cccc3ccccc23)C=NN1',\n",
       "   'score': 0.9080810635895936},\n",
       "  {'smiles': 'CCN(CC)C(=O)N[C@H]1C=C2c3cccc4[nH]cc(c34)[C@H]2CN(C)C1',\n",
       "   'score': 0.9037786567169053},\n",
       "  {'smiles': 'CCN(CC)C(=O)N[C@H]1C=C2c3ccccc3C[C@H](O)C[C@H]2C1',\n",
       "   'score': 0.901194713625583}]}"
      ]
     },
     "execution_count": 8,
     "metadata": {},
     "output_type": "execute_result"
    }
   ],
   "source": [
    "response = json.loads(r.text)\n",
    "response"
   ]
  },
  {
   "cell_type": "code",
   "execution_count": null,
   "id": "33d5cbaa-00bb-437b-b5ec-d80fcf4963f9",
   "metadata": {},
   "outputs": [],
   "source": []
  }
 ],
 "metadata": {
  "kernelspec": {
   "display_name": "Python 3 (ipykernel)",
   "language": "python",
   "name": "python3"
  },
  "language_info": {
   "codemirror_mode": {
    "name": "ipython",
    "version": 3
   },
   "file_extension": ".py",
   "mimetype": "text/x-python",
   "name": "python",
   "nbconvert_exporter": "python",
   "pygments_lexer": "ipython3",
   "version": "3.11.3"
  }
 },
 "nbformat": 4,
 "nbformat_minor": 5
}
